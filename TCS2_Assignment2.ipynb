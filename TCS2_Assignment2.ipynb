{
  "nbformat": 4,
  "nbformat_minor": 0,
  "metadata": {
    "colab": {
      "name": "TCS2 Assignment2.ipynb",
      "provenance": [],
      "collapsed_sections": []
    },
    "kernelspec": {
      "name": "python3",
      "display_name": "Python 3"
    },
    "language_info": {
      "name": "python"
    }
  },
  "cells": [
    {
      "cell_type": "code",
      "metadata": {
        "id": "jwppeVUOfOI9"
      },
      "source": [
        "import pandas as pd\n",
        "import numpy as np\n",
        "from matplotlib import pyplot as plt\n",
        "import statistics as st\n",
        "from sklearn.model_selection import train_test_split"
      ],
      "execution_count": 33,
      "outputs": []
    },
    {
      "cell_type": "code",
      "metadata": {
        "colab": {
          "base_uri": "https://localhost:8080/",
          "height": 204
        },
        "id": "vbA3l9oRfqIo",
        "outputId": "96a97d65-e549-4eba-bafb-64f39d96ccdf"
      },
      "source": [
        "data = pd.read_csv('/content/drive/My Drive/Colab Notebooks/lin_reg_data.csv')\n",
        "data.head()"
      ],
      "execution_count": 34,
      "outputs": [
        {
          "output_type": "execute_result",
          "data": {
            "text/html": [
              "<div>\n",
              "<style scoped>\n",
              "    .dataframe tbody tr th:only-of-type {\n",
              "        vertical-align: middle;\n",
              "    }\n",
              "\n",
              "    .dataframe tbody tr th {\n",
              "        vertical-align: top;\n",
              "    }\n",
              "\n",
              "    .dataframe thead th {\n",
              "        text-align: right;\n",
              "    }\n",
              "</style>\n",
              "<table border=\"1\" class=\"dataframe\">\n",
              "  <thead>\n",
              "    <tr style=\"text-align: right;\">\n",
              "      <th></th>\n",
              "      <th>X</th>\n",
              "      <th>Y</th>\n",
              "    </tr>\n",
              "  </thead>\n",
              "  <tbody>\n",
              "    <tr>\n",
              "      <th>0</th>\n",
              "      <td>32.502345</td>\n",
              "      <td>31.707006</td>\n",
              "    </tr>\n",
              "    <tr>\n",
              "      <th>1</th>\n",
              "      <td>53.426804</td>\n",
              "      <td>68.777596</td>\n",
              "    </tr>\n",
              "    <tr>\n",
              "      <th>2</th>\n",
              "      <td>61.530358</td>\n",
              "      <td>62.562382</td>\n",
              "    </tr>\n",
              "    <tr>\n",
              "      <th>3</th>\n",
              "      <td>47.475640</td>\n",
              "      <td>71.546632</td>\n",
              "    </tr>\n",
              "    <tr>\n",
              "      <th>4</th>\n",
              "      <td>59.813208</td>\n",
              "      <td>87.230925</td>\n",
              "    </tr>\n",
              "  </tbody>\n",
              "</table>\n",
              "</div>"
            ],
            "text/plain": [
              "           X          Y\n",
              "0  32.502345  31.707006\n",
              "1  53.426804  68.777596\n",
              "2  61.530358  62.562382\n",
              "3  47.475640  71.546632\n",
              "4  59.813208  87.230925"
            ]
          },
          "metadata": {
            "tags": []
          },
          "execution_count": 34
        }
      ]
    },
    {
      "cell_type": "code",
      "metadata": {
        "id": "rkM7_rM6g4eU"
      },
      "source": [
        "X=data.iloc[:,0]\n",
        "y=data.iloc[:,1]\n",
        "\n",
        "X_train, X_test, y_train, y_test = train_test_split(X, y, test_size=0.5,random_state=0)"
      ],
      "execution_count": 35,
      "outputs": []
    },
    {
      "cell_type": "code",
      "metadata": {
        "id": "pXxVGs2Krv5e"
      },
      "source": [
        "class LinearRegression:\n",
        "        def __init__(self,X_data,Y_data,l,iterations): #initialize all parameters\n",
        "            self.X=X_data\n",
        "            self.Y=Y_data\n",
        "            #weight and bias\n",
        "            self.m=0\n",
        "            self.c=0\n",
        "            self.L=l #learning rate\n",
        "            self.iter=iterations #num of iterations\n",
        "            self.n=float(len(self.X))  #size of data\n",
        "        \n",
        "        def cost(self,pred_y): #cost function\n",
        "            cost=np.sum(np.square(self.Y-pred_y))/(2*self.n)\n",
        "            return(cost)\n",
        "        \n",
        "        def fit(self):\n",
        "            self.history=np.zeros(self.iter)\n",
        "            #updating values of m and c\n",
        "            for i in range(self.iter):\n",
        "                pred_y=self.m*X + self.c\n",
        "                #print(pred_y)\n",
        "                Dm= (-2/self.n)*(self.X*(self.Y-pred_y))\n",
        "                Dc= (-2/self.n)*(self.Y-pred_y)\n",
        "                #update\n",
        "                self.m=self.m-Dm*self.L\n",
        "                self.c=self.c-Dc*self.L\n",
        "                #cost is calculated for every iteration\n",
        "                self.history[i]=self.cost(pred_y)\n",
        "            self.mse=self.MSE(self.Y,pred_y)\n",
        "                \n",
        "                \n",
        "                \n",
        "       \n",
        "        def MSE(self,pred_y,Y):\n",
        "            errors=Y-pred_y #error is the difference between actual and predicted value\n",
        "            mse=np.sum(np.square(errors))/self.n #mean of sum of square of erros\n",
        "            return mse\n",
        "        \n",
        "        def results(self):\n",
        "            fig=plt.figure(figsize=(14,14))\n",
        "            a1=fig.add_subplot(211)\n",
        "\n",
        "            plt.title('minimisation of errors across the iterations')\n",
        "            a1.plot(self.history)\n",
        "\n",
        "\n",
        "            #making predictions\n",
        "            a2=fig.add_subplot(212)\n",
        "            final_y=self.m*self.X +self.c \n",
        "            plt.scatter(self.X,self.Y)\n",
        "            plt.title('regrssion line')\n",
        "            a2.plot([min(self.X),max(self.X)],[min(final_y),max(final_y)],color='red') #plotting the red line \n",
        "            \n",
        "            plt.show()\n",
        "            \n",
        "            print ('Mean Squared Error=',self.mse)"
      ],
      "execution_count": 36,
      "outputs": []
    },
    {
      "cell_type": "code",
      "metadata": {
        "id": "q_oxF7x9r6-C"
      },
      "source": [
        "class RidgeLinearRegression:\n",
        "       def __init__(self,X_data,Y_data,l,l2,iterations): #initialize all parameters\n",
        "           self.X=X_data\n",
        "           self.Y=Y_data\n",
        "           #weight and bias\n",
        "           self.m=0\n",
        "           self.c=0\n",
        "           self.L=l #learning rate\n",
        "           self.l2=l2 #regularization parameter\n",
        "           self.iter=iterations #num of iterations\n",
        "           self.n=float(len(self.X))  #size of data\n",
        "       \n",
        "       def cost(self,pred_y): #cost function\n",
        "           cost=np.sum(np.square(self.Y-pred_y))/(2*self.n) + self.l2*np.sum(np.square(self.m))\n",
        "           return(cost)\n",
        "       \n",
        "       def fit(self):\n",
        "           self.history=np.zeros(self.iter)\n",
        "           #updating values of m and c\n",
        "           for i in range(self.iter):\n",
        "               pred_y=self.m*self.X + self.c\n",
        "               #print(pred_y)\n",
        "               Dm= (-2/self.n)*(self.X*(self.Y-pred_y))+2*self.l2*self.m\n",
        "               Dc= (-2/self.n)*(self.Y-pred_y)\n",
        "               #update\n",
        "               self.m=self.m-Dm*self.L\n",
        "               self.c=self.c-Dc*self.L\n",
        "               #cost is calculated for every iteration\n",
        "               self.history[i]=self.cost(pred_y)\n",
        "           self.mse=self.MSE(self.Y,pred_y)\n",
        "               \n",
        "               \n",
        "               \n",
        "      \n",
        "       def MSE(self,pred_y,Y):\n",
        "           errors=Y-pred_y #error is the difference between actual and predicted value\n",
        "           mse=np.sum(np.square(errors))/self.n #mean of sum of square of erros\n",
        "           return mse\n",
        "       \n",
        "       def results(self):\n",
        "           fig=plt.figure(figsize=(14,14))\n",
        "           a1=fig.add_subplot(211)\n",
        "\n",
        "           plt.title('minimisation of errors across the iterations')\n",
        "           a1.plot(self.history)\n",
        "\n",
        "\n",
        "           #making predictions\n",
        "           a2=fig.add_subplot(212)\n",
        "           final_y=self.m*self.X +self.c \n",
        "           plt.scatter(self.X,self.Y)\n",
        "           plt.title('regrssion line')\n",
        "           a2.plot([min(self.X),max(self.X)],[min(final_y),max(final_y)],color='red') #plotting the red line \n",
        "           \n",
        "           plt.show()\n",
        "           \n",
        "           print ('Mean Squared Error=',self.mse)"
      ],
      "execution_count": 37,
      "outputs": []
    },
    {
      "cell_type": "code",
      "metadata": {
        "id": "QUgHhKrssBDD"
      },
      "source": [
        "class LassoLinearRegression:\n",
        "       def __init__(self,X_data,Y_data,l,l1,iterations): #initialize all parameters\n",
        "           self.X=X_data\n",
        "           self.Y=Y_data\n",
        "           #weight and bias\n",
        "           self.m=np.random.randn(X_data.shape[0])\n",
        "           self.c=0\n",
        "           self.L=l #learning rate\n",
        "           self.l1=l1 #regularization parameter\n",
        "           self.iter=iterations #num of iterations\n",
        "           self.n=float(len(X_data))  #size of data\n",
        "       \n",
        "       def cost(self,pred_y): #cost function\n",
        "           cost=np.sum(np.square(self.Y-pred_y))/(2*self.n) + self.l1*np.sum(self.m)\n",
        "           return(cost)\n",
        "       \n",
        "       def fit(self):\n",
        "           self.history=np.zeros(self.iter)\n",
        "           pred_y=np.zeros((self.Y.shape))\n",
        "           for j in range(self.iter):\n",
        "               for i in range(0,len(self.X)):\n",
        "                       pred_y[i]=self.m[i]*self.X[i]+self.c\n",
        "                       if self.m[i]>0:\n",
        "                           Dm= (-2/self.n)*(self.X[i]*(self.Y[i]-pred_y[i]))-self.l1 \n",
        "                       else:\n",
        "                           Dm= (-2/self.n)*(self.X[i]*(self.Y[i]-pred_y[i]))+self.l1\n",
        "\n",
        "\n",
        "                       Dc= (-2/self.n)*(self.Y[i]-pred_y[i])\n",
        "                       #update\n",
        "                       self.m[i]=self.m[i]-Dm*self.L\n",
        "                       self.c=self.c-Dc*self.L\n",
        "               self.history[j]=self.cost(pred_y)\n",
        "           self.mse=self.MSE(self.Y,pred_y)\n",
        "\n",
        "             \n",
        "      \n",
        "       def MSE(self,pred_y,Y):\n",
        "           errors=Y-pred_y #error is the difference between actual and predicted value\n",
        "           mse=np.sum(np.square(errors))/self.n #mean of sum of square of erros\n",
        "           return mse\n",
        "       \n",
        "       def results(self):\n",
        "           fig=plt.figure(figsize=(14,14))\n",
        "           a1=fig.add_subplot(211)\n",
        "\n",
        "           plt.title('minimisation of errors across the iterations')\n",
        "           a1.plot(self.history)\n",
        "\n",
        "\n",
        "           #making predictions\n",
        "           a2=fig.add_subplot(212)\n",
        "           final_y=self.m*self.X +self.c \n",
        "           plt.scatter(self.X,self.Y)\n",
        "           plt.title('regrssion line')\n",
        "           a2.plot([min(self.X),max(self.X)],[min(final_y),max(final_y)],color='red') #plotting the red line \n",
        "           \n",
        "           plt.show()\n",
        "           \n",
        "           print ('Mean Squared Error=',self.mse)"
      ],
      "execution_count": 40,
      "outputs": []
    },
    {
      "cell_type": "code",
      "metadata": {
        "colab": {
          "base_uri": "https://localhost:8080/",
          "height": 410
        },
        "id": "SBn1hJEcsSF7",
        "outputId": "f378aa3e-8f5f-4dbd-ca19-c9f5a56ff84c"
      },
      "source": [
        "l=LinearRegression(X_train,y_train,0.005,100)\n",
        "l.fit()\n",
        "\n",
        "\n",
        "r= RidgeLinearRegression(X_train,y_train,0.005,1,100)\n",
        "r.fit()\n",
        "\n",
        "#la= LassoLinearRegression(X_train,y_train,0.005,1,100)\n",
        "#la.fit()\n",
        "\n",
        "fig=plt.figure(figsize=(14,14))\n",
        "a2=fig.add_subplot(212)\n",
        "\n",
        "final_y_linear=l.m*l.X +l.c \n",
        "final_y_ridge=r.m*r.X +r.c\n",
        "final_y_lasso=la.m*la.X +la.c\n",
        "\n",
        "plt.scatter(X_train,y_train)\n",
        "plt.title('regression line')\n",
        "\n",
        "#For linear regression\n",
        "a2.plot([min(l.X),max(l.X)],[min(final_y_linear),max(final_y_linear)],color='red')\n",
        "\n",
        "#For linear regression\n",
        "a2.plot([min(r.X),max(r.X)],[min(final_y_ridge),max(final_y_ridge)],color='blue')\n",
        "\n",
        "#For linear regression\n",
        "#a2.plot([min(la.X),max(la.X)],[min(final_y_lasso),max(final_y_lasso)],color='green')\n",
        "\n",
        "plt.show()\n",
        "#l.results()\n",
        "\n",
        "rss_y_linear = np.sum(np.square(y_train - final_y_linear))\n",
        "rss_X_linear = np.sum(np.square(X_train - final_y_linear))\n",
        "#print(\"RSS = {}\".format(rss))\n",
        "\n",
        "rss_y_linear = np.sum(np.square(y_train - final_y_linear))\n",
        "rss_X_linear = np.sum(np.square(X_train - final_y_linear))"
      ],
      "execution_count": 45,
      "outputs": [
        {
          "output_type": "display_data",
          "data": {
            "image/png": "[encoded data removed]",
            "text/plain": [
              "<Figure size 1008x1008 with 1 Axes>"
            ]
          },
          "metadata": {
            "tags": [],
            "needs_background": "light"
          }
        }
      ]
    }
  ]
}